{
 "cells": [
  {
   "cell_type": "code",
   "execution_count": 1,
   "id": "c6bdb196-e2d5-4361-8047-6c1b2bc601a1",
   "metadata": {},
   "outputs": [
    {
     "name": "stderr",
     "output_type": "stream",
     "text": [
      "<frozen importlib._bootstrap>:219: RuntimeWarning: scipy._lib.messagestream.MessageStream size changed, may indicate binary incompatibility. Expected 56 from C header, got 64 from PyObject\n"
     ]
    }
   ],
   "source": [
    "from qiskit import*\n",
    "from qiskit.algorithms import Shor"
   ]
  },
  {
   "cell_type": "code",
   "execution_count": 2,
   "id": "8abdddb8-7991-4a61-a30c-eb04a534c579",
   "metadata": {},
   "outputs": [
    {
     "name": "stdout",
     "output_type": "stream",
     "text": [
      "Factors: [[3, 5]]\n"
     ]
    }
   ],
   "source": [
    "quantum_instance = Aer.get_backend('qasm_simulator')\n",
    "shor = Shor(quantum_instance = quantum_instance)\n",
    "result = shor.factor(N = 15, a = 7)\n",
    "print(\"Factors:\" ,result.factors)"
   ]
  },
  {
   "cell_type": "code",
   "execution_count": null,
   "id": "42738ed8-fc85-4c85-87aa-314c58b2692d",
   "metadata": {},
   "outputs": [],
   "source": []
  }
 ],
 "metadata": {
  "kernelspec": {
   "display_name": "Qiskit v0.34.2 (ipykernel)",
   "language": "python",
   "name": "python3"
  },
  "language_info": {
   "codemirror_mode": {
    "name": "ipython",
    "version": 3
   },
   "file_extension": ".py",
   "mimetype": "text/x-python",
   "name": "python",
   "nbconvert_exporter": "python",
   "pygments_lexer": "ipython3",
   "version": "3.8.12"
  },
  "widgets": {
   "application/vnd.jupyter.widget-state+json": {
    "state": {},
    "version_major": 2,
    "version_minor": 0
   }
  }
 },
 "nbformat": 4,
 "nbformat_minor": 5
}
