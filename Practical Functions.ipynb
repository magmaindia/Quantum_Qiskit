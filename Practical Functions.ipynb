{
 "cells": [
  {
   "cell_type": "code",
   "execution_count": 1,
   "id": "2c199d3b-236f-4aca-88b0-ee04385edc9d",
   "metadata": {},
   "outputs": [],
   "source": [
    "def divide(number):\n",
    "    return number/2"
   ]
  },
  {
   "cell_type": "code",
   "execution_count": 2,
   "id": "6da2c19a-bc11-4557-8d78-5d56d45f3cc2",
   "metadata": {},
   "outputs": [
    {
     "data": {
      "text/plain": [
       "1.0"
      ]
     },
     "execution_count": 2,
     "metadata": {},
     "output_type": "execute_result"
    }
   ],
   "source": [
    "divide(2)"
   ]
  },
  {
   "cell_type": "markdown",
   "id": "25f8d3d6-25b8-496d-a02b-676cc21c3752",
   "metadata": {},
   "source": [
    "##MAP"
   ]
  },
  {
   "cell_type": "code",
   "execution_count": 9,
   "id": "8026bef4-f470-445c-b95e-0afc5f7ce555",
   "metadata": {},
   "outputs": [],
   "source": [
    "def control_string(string):\n",
    "    return \"shivani\" in string\n"
   ]
  },
  {
   "cell_type": "code",
   "execution_count": 4,
   "id": "aaa504f9-2a35-49c5-9801-4f308c1fa3f5",
   "metadata": {},
   "outputs": [],
   "source": [
    "my_artsit_list =['shivani','khushi','muskan','niysa']"
   ]
  },
  {
   "cell_type": "code",
   "execution_count": 10,
   "id": "e783c45b-9c67-4878-9f13-e38d927c6550",
   "metadata": {},
   "outputs": [
    {
     "data": {
      "text/plain": [
       "[True, False, False, False]"
      ]
     },
     "execution_count": 10,
     "metadata": {},
     "output_type": "execute_result"
    }
   ],
   "source": [
    "list(map(control_string,my_artsit_list))"
   ]
  },
  {
   "cell_type": "markdown",
   "id": "92704379-622c-42b6-9ae2-fff22286189e",
   "metadata": {},
   "source": [
    "##filter##"
   ]
  },
  {
   "cell_type": "code",
   "execution_count": 11,
   "id": "60c01d42-e6ad-42a7-bd75-c0b8ff1a29c7",
   "metadata": {},
   "outputs": [
    {
     "data": {
      "text/plain": [
       "['shivani']"
      ]
     },
     "execution_count": 11,
     "metadata": {},
     "output_type": "execute_result"
    }
   ],
   "source": [
    "list(filter(control_string,my_artsit_list))"
   ]
  },
  {
   "cell_type": "code",
   "execution_count": null,
   "id": "ce23ef3f-913c-4458-9d92-95aaeaba1a93",
   "metadata": {},
   "outputs": [],
   "source": []
  }
 ],
 "metadata": {
  "kernelspec": {
   "display_name": "Qiskit v0.34.1 (ipykernel)",
   "language": "python",
   "name": "python3"
  },
  "language_info": {
   "codemirror_mode": {
    "name": "ipython",
    "version": 3
   },
   "file_extension": ".py",
   "mimetype": "text/x-python",
   "name": "python",
   "nbconvert_exporter": "python",
   "pygments_lexer": "ipython3",
   "version": "3.8.10"
  },
  "widgets": {
   "application/vnd.jupyter.widget-state+json": {
    "state": {},
    "version_major": 2,
    "version_minor": 0
   }
  }
 },
 "nbformat": 4,
 "nbformat_minor": 5
}
