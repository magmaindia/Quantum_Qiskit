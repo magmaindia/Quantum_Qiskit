{
 "cells": [
  {
   "cell_type": "code",
   "execution_count": 11,
   "id": "a0480eec-04a6-4a1c-9a63-68cf503ef67d",
   "metadata": {},
   "outputs": [],
   "source": [
    "my_list=[1,2,3,1]"
   ]
  },
  {
   "cell_type": "code",
   "execution_count": 3,
   "id": "d320ddb1-3551-4ac7-a791-70b2139def18",
   "metadata": {},
   "outputs": [],
   "source": [
    "my_tuple = (1,2,3,1)"
   ]
  },
  {
   "cell_type": "code",
   "execution_count": 4,
   "id": "5f5c7698-62e8-4ebe-a6c2-190cb5ad866b",
   "metadata": {},
   "outputs": [
    {
     "data": {
      "text/plain": [
       "(1, 2, 3, 1)"
      ]
     },
     "execution_count": 4,
     "metadata": {},
     "output_type": "execute_result"
    }
   ],
   "source": [
    "my_tuple"
   ]
  },
  {
   "cell_type": "code",
   "execution_count": 13,
   "id": "2984963e-0acf-4484-860d-1d411f8bbc51",
   "metadata": {},
   "outputs": [
    {
     "data": {
      "text/plain": [
       "[1, 2, 3, 1]"
      ]
     },
     "execution_count": 13,
     "metadata": {},
     "output_type": "execute_result"
    }
   ],
   "source": [
    "my_list"
   ]
  },
  {
   "cell_type": "markdown",
   "id": "caaa670b-71e3-44e4-af31-7b39e8cd2a8d",
   "metadata": {},
   "source": [
    "## we cannot change tuple items and assign values##"
   ]
  },
  {
   "cell_type": "code",
   "execution_count": 14,
   "id": "a335bd9d-1fdc-4683-af29-8e966a9bb951",
   "metadata": {},
   "outputs": [
    {
     "data": {
      "text/plain": [
       "2"
      ]
     },
     "execution_count": 14,
     "metadata": {},
     "output_type": "execute_result"
    }
   ],
   "source": [
    "my_tuple.count(1)"
   ]
  },
  {
   "cell_type": "code",
   "execution_count": 17,
   "id": "07154a1f-b279-4504-a8f2-3436d9099fe0",
   "metadata": {},
   "outputs": [
    {
     "data": {
      "text/plain": [
       "0"
      ]
     },
     "execution_count": 17,
     "metadata": {},
     "output_type": "execute_result"
    }
   ],
   "source": [
    "my_tuple.index(1)"
   ]
  },
  {
   "cell_type": "code",
   "execution_count": null,
   "id": "66a5cae6-67e6-45ec-844e-fcd73c2b5c0d",
   "metadata": {},
   "outputs": [],
   "source": []
  }
 ],
 "metadata": {
  "kernelspec": {
   "display_name": "Qiskit v0.34.2 (ipykernel)",
   "language": "python",
   "name": "python3"
  },
  "language_info": {
   "codemirror_mode": {
    "name": "ipython",
    "version": 3
   },
   "file_extension": ".py",
   "mimetype": "text/x-python",
   "name": "python",
   "nbconvert_exporter": "python",
   "pygments_lexer": "ipython3",
   "version": "3.8.12"
  },
  "widgets": {
   "application/vnd.jupyter.widget-state+json": {
    "state": {},
    "version_major": 2,
    "version_minor": 0
   }
  }
 },
 "nbformat": 4,
 "nbformat_minor": 5
}
