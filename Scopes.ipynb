{
 "cells": [
  {
   "cell_type": "code",
   "execution_count": 5,
   "id": "bd4df366-6101-4e86-a08c-0f9faf903f97",
   "metadata": {},
   "outputs": [],
   "source": [
    "number = 10\n",
    "\n",
    "def multiply(num):\n",
    "    number = 5\n",
    "    return num * number"
   ]
  },
  {
   "cell_type": "code",
   "execution_count": 6,
   "id": "4cc2778f-ac75-41fa-bbc4-dc4182217dca",
   "metadata": {},
   "outputs": [
    {
     "data": {
      "text/plain": [
       "50"
      ]
     },
     "execution_count": 6,
     "metadata": {},
     "output_type": "execute_result"
    }
   ],
   "source": [
    "multiply(10)"
   ]
  },
  {
   "cell_type": "code",
   "execution_count": 7,
   "id": "2611f118-d927-4eaa-94d4-af0dbc6003a3",
   "metadata": {},
   "outputs": [
    {
     "name": "stdout",
     "output_type": "stream",
     "text": [
      "10\n"
     ]
    }
   ],
   "source": [
    "print(number)"
   ]
  },
  {
   "cell_type": "code",
   "execution_count": 8,
   "id": "08443532-3803-4c03-a7ce-661793014d6f",
   "metadata": {},
   "outputs": [],
   "source": [
    "a = 10\n",
    "a = 5"
   ]
  },
  {
   "cell_type": "code",
   "execution_count": 9,
   "id": "63084116-212f-4268-977c-6f8c1f4a4ad2",
   "metadata": {},
   "outputs": [
    {
     "name": "stdout",
     "output_type": "stream",
     "text": [
      "5\n"
     ]
    }
   ],
   "source": [
    "print(a)"
   ]
  },
  {
   "cell_type": "markdown",
   "id": "640f47aa-6c4e-49dc-91f4-6c00e7d91d57",
   "metadata": {},
   "source": [
    "# so what is actually happening here if we are calling print() then it is returning the initial value of number i.e.10 and if we are calling function it will retuen with the value defined under function #\n"
   ]
  },
  {
   "cell_type": "markdown",
   "id": "b346b6fd-2a6b-4d7c-80b4-416a2bdb2213",
   "metadata": {},
   "source": [
    "# LEGB - local Enclosing Global Built-in "
   ]
  },
  {
   "cell_type": "code",
   "execution_count": 21,
   "id": "f7116e50-11f5-46b1-a761-1233e582dfc6",
   "metadata": {},
   "outputs": [],
   "source": [
    "my_string = \"Shiavni\"\n",
    " \n",
    "def my_func():\n",
    "    my_string =\"Muskan\"\n",
    "    \n",
    "    def my_func2():\n",
    "        my_string = \"Neha\"\n",
    "        print(my_string)\n",
    "        \n",
    "    my_func2()"
   ]
  },
  {
   "cell_type": "markdown",
   "id": "ef7fb124-c1a0-4914-b23b-0ed3d1bef4af",
   "metadata": {},
   "source": [
    "## Enclosing"
   ]
  },
  {
   "cell_type": "code",
   "execution_count": 16,
   "id": "898dad7b-908b-4149-a316-4ab6a9804dfc",
   "metadata": {},
   "outputs": [
    {
     "name": "stdout",
     "output_type": "stream",
     "text": [
      "Muskan\n"
     ]
    }
   ],
   "source": [
    "my_func()"
   ]
  },
  {
   "cell_type": "markdown",
   "id": "2d0dfa67-df2c-4454-9499-c0517f799c43",
   "metadata": {},
   "source": [
    "##Gloabal"
   ]
  },
  {
   "cell_type": "code",
   "execution_count": 18,
   "id": "81fff944-224c-49f0-82fa-c039d4856329",
   "metadata": {},
   "outputs": [
    {
     "data": {
      "text/plain": [
       "'Shiavni'"
      ]
     },
     "execution_count": 18,
     "metadata": {},
     "output_type": "execute_result"
    }
   ],
   "source": [
    "my_string"
   ]
  },
  {
   "cell_type": "code",
   "execution_count": 19,
   "id": "63021140-ddc5-4fac-a332-12a9bb790342",
   "metadata": {},
   "outputs": [],
   "source": [
    "##LOCAL"
   ]
  },
  {
   "cell_type": "code",
   "execution_count": 22,
   "id": "b65ee62c-71f7-4126-9e54-7744acf054c7",
   "metadata": {},
   "outputs": [
    {
     "name": "stdout",
     "output_type": "stream",
     "text": [
      "Neha\n"
     ]
    }
   ],
   "source": [
    "my_func()"
   ]
  },
  {
   "cell_type": "code",
   "execution_count": 23,
   "id": "6642bbf6-09bf-4d99-91a6-830a7560b426",
   "metadata": {},
   "outputs": [
    {
     "data": {
      "text/plain": [
       "'Shiavni'"
      ]
     },
     "execution_count": 23,
     "metadata": {},
     "output_type": "execute_result"
    }
   ],
   "source": [
    "my_string"
   ]
  },
  {
   "cell_type": "code",
   "execution_count": null,
   "id": "19004491-9b32-463d-812b-ab9d6bebe861",
   "metadata": {},
   "outputs": [],
   "source": []
  }
 ],
 "metadata": {
  "kernelspec": {
   "display_name": "Qiskit v0.34.1 (ipykernel)",
   "language": "python",
   "name": "python3"
  },
  "language_info": {
   "codemirror_mode": {
    "name": "ipython",
    "version": 3
   },
   "file_extension": ".py",
   "mimetype": "text/x-python",
   "name": "python",
   "nbconvert_exporter": "python",
   "pygments_lexer": "ipython3",
   "version": "3.8.10"
  },
  "widgets": {
   "application/vnd.jupyter.widget-state+json": {
    "state": {},
    "version_major": 2,
    "version_minor": 0
   }
  }
 },
 "nbformat": 4,
 "nbformat_minor": 5
}
