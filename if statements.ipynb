{
 "cells": [
  {
   "cell_type": "code",
   "execution_count": 1,
   "id": "a4d1b7c6-5129-4e0b-9c1b-06f557081b4c",
   "metadata": {},
   "outputs": [
    {
     "name": "stdout",
     "output_type": "stream",
     "text": [
      "three is greater than two\n"
     ]
    }
   ],
   "source": [
    "if 3>2:\n",
    "    print(\"three is greater than two\")"
   ]
  },
  {
   "cell_type": "code",
   "execution_count": 9,
   "id": "e5f2f0eb-82ff-4cd7-a75b-c212a3f32edd",
   "metadata": {},
   "outputs": [],
   "source": [
    "x = 2"
   ]
  },
  {
   "cell_type": "code",
   "execution_count": 7,
   "id": "51656119-540c-4f3e-bfcd-5387066a15c8",
   "metadata": {},
   "outputs": [],
   "source": [
    "y = 2"
   ]
  },
  {
   "cell_type": "code",
   "execution_count": 10,
   "id": "59af36dc-c1e2-4229-93f3-a10fd35d2c59",
   "metadata": {},
   "outputs": [
    {
     "name": "stdout",
     "output_type": "stream",
     "text": [
      "x is y\n"
     ]
    }
   ],
   "source": [
    "if x > y:\n",
    "    print(\"x is greater\")\n",
    "elif x == y:\n",
    "    print(\"x is y\")\n",
    "else:\n",
    "    print(\"y is greater\")"
   ]
  },
  {
   "cell_type": "code",
   "execution_count": 13,
   "id": "ab1ff83c-890b-45dc-abae-0500081d5b16",
   "metadata": {},
   "outputs": [
    {
     "name": "stdin",
     "output_type": "stream",
     "text": [
      "superhero : lemon\n"
     ]
    }
   ],
   "source": [
    "my_superhero = input(\"superhero :\")"
   ]
  },
  {
   "cell_type": "code",
   "execution_count": 14,
   "id": "50bf1356-a764-4752-8315-639c7b80bbd2",
   "metadata": {},
   "outputs": [
    {
     "name": "stdout",
     "output_type": "stream",
     "text": [
      "./\n"
     ]
    }
   ],
   "source": [
    "if my_superhero ==\"Spiderman\":\n",
    "    print(\"Spiderman\")\n",
    "elif my_superhero == \"Aquaman\":\n",
    "    print(\"Aquaman\")\n",
    "elif my_superhero == \"Batman\":\n",
    "    print(\"Batman\")\n",
    "elif my_superhero == \"SuperWoman\":\n",
    "    print(\"SuperWoman\")\n",
    "else:\n",
    "    print(\"./\")\n",
    "\n",
    "\n"
   ]
  },
  {
   "cell_type": "code",
   "execution_count": 16,
   "id": "ad1a1e5d-d9c2-4de9-85c0-880dbc4be589",
   "metadata": {},
   "outputs": [],
   "source": [
    "my_string = \"Hello World\""
   ]
  },
  {
   "cell_type": "code",
   "execution_count": 19,
   "id": "07394e4b-3cd1-49fd-8aa9-7631e84e9e62",
   "metadata": {},
   "outputs": [
    {
     "name": "stdout",
     "output_type": "stream",
     "text": [
      "true\n"
     ]
    }
   ],
   "source": [
    "if \"Hello\" in my_string:\n",
    "    print(\"true\")\n",
    "else:\n",
    "    print(\"false\")"
   ]
  },
  {
   "cell_type": "code",
   "execution_count": null,
   "id": "d86d28cf-0a1f-477e-aa54-ac7e5c8b016b",
   "metadata": {},
   "outputs": [],
   "source": []
  }
 ],
 "metadata": {
  "kernelspec": {
   "display_name": "Qiskit v0.34.1 (ipykernel)",
   "language": "python",
   "name": "python3"
  },
  "language_info": {
   "codemirror_mode": {
    "name": "ipython",
    "version": 3
   },
   "file_extension": ".py",
   "mimetype": "text/x-python",
   "name": "python",
   "nbconvert_exporter": "python",
   "pygments_lexer": "ipython3",
   "version": "3.8.10"
  },
  "widgets": {
   "application/vnd.jupyter.widget-state+json": {
    "state": {},
    "version_major": 2,
    "version_minor": 0
   }
  }
 },
 "nbformat": 4,
 "nbformat_minor": 5
}
