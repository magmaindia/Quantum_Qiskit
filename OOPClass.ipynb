{
 "cells": [
  {
   "cell_type": "markdown",
   "id": "db88f7f7-1dbc-4609-9560-65abf97f1f3e",
   "metadata": {},
   "source": [
    "#class"
   ]
  },
  {
   "cell_type": "code",
   "execution_count": 1,
   "id": "ff9f671e-78e9-4642-b61e-3e2aa940ad3e",
   "metadata": {},
   "outputs": [],
   "source": [
    "my_list = list()"
   ]
  },
  {
   "cell_type": "markdown",
   "id": "35df5ae0-947c-48b5-bfa3-a5771283a0e0",
   "metadata": {},
   "source": [
    "#Instance & Attributes"
   ]
  },
  {
   "cell_type": "code",
   "execution_count": 2,
   "id": "c6c5bc7f-459c-4593-9ce7-e2302e98dde7",
   "metadata": {},
   "outputs": [],
   "source": [
    "class Musician():\n",
    "    def __init__(self,name,age,instrument):\n",
    "        self.name = name\n",
    "        self.age =age\n",
    "        self.instrument = instrument\n",
    "    \n",
    "        \n",
    "        \n",
    "    "
   ]
  },
  {
   "cell_type": "code",
   "execution_count": 3,
   "id": "1d7741f0-86d6-4985-9ec2-9cc13265abb9",
   "metadata": {},
   "outputs": [],
   "source": [
    "my_musician = Musician(\"shivani\",19,\"guitar\")"
   ]
  },
  {
   "cell_type": "code",
   "execution_count": 4,
   "id": "b6472f1c-ddf7-4527-9edf-1724019e19b3",
   "metadata": {},
   "outputs": [
    {
     "data": {
      "text/plain": [
       "19"
      ]
     },
     "execution_count": 4,
     "metadata": {},
     "output_type": "execute_result"
    }
   ],
   "source": [
    "my_musician.age"
   ]
  },
  {
   "cell_type": "markdown",
   "id": "96c48e0f-a49c-4f56-8f31-1f47d0a7dce1",
   "metadata": {},
   "source": [
    "##Inheritance"
   ]
  },
  {
   "cell_type": "code",
   "execution_count": 5,
   "id": "45b8d2de-da7b-4d27-9910-696b0c95bebc",
   "metadata": {},
   "outputs": [],
   "source": [
    "class Class1():\n",
    "    \n",
    "    def __init__(self):\n",
    "        print(\"Class1 is created\")\n",
    "        \n",
    "    def method_1(self):\n",
    "        print(\"method 1\")\n",
    "        \n",
    "    def method_2(self):\n",
    "        print(\"method 2\")\n",
    "        \n"
   ]
  },
  {
   "cell_type": "code",
   "execution_count": 6,
   "id": "3ae367dc-1263-4ef4-a52f-7434776db4f4",
   "metadata": {},
   "outputs": [
    {
     "name": "stdout",
     "output_type": "stream",
     "text": [
      "Class1 is created\n"
     ]
    }
   ],
   "source": [
    "my_instance = Class1 ()"
   ]
  },
  {
   "cell_type": "code",
   "execution_count": 7,
   "id": "497b4afb-3c50-42fa-9310-3e2af5b82e98",
   "metadata": {},
   "outputs": [],
   "source": [
    "class Class2(Class1):\n",
    "    \n",
    "    def __init__(self):\n",
    "        Class1.__init__(self)\n",
    "        print(\"Class2 is created\")\n",
    "        "
   ]
  },
  {
   "cell_type": "code",
   "execution_count": 8,
   "id": "ea1d6317-b373-4b0b-a5ef-0b0beb8dacd1",
   "metadata": {},
   "outputs": [
    {
     "name": "stdout",
     "output_type": "stream",
     "text": [
      "Class1 is created\n",
      "Class2 is created\n"
     ]
    }
   ],
   "source": [
    "my_instance_2 = Class2()"
   ]
  },
  {
   "cell_type": "code",
   "execution_count": 9,
   "id": "c2bcaeed-f479-4f14-9e87-acf9b76a7f21",
   "metadata": {},
   "outputs": [
    {
     "name": "stdout",
     "output_type": "stream",
     "text": [
      "method 2\n"
     ]
    }
   ],
   "source": [
    "my_instance_2.method_2()"
   ]
  },
  {
   "cell_type": "code",
   "execution_count": 10,
   "id": "f78d3b1e-27cb-4b89-9a3b-7c97d262e858",
   "metadata": {},
   "outputs": [],
   "source": [
    "#Special Method"
   ]
  },
  {
   "cell_type": "code",
   "execution_count": 11,
   "id": "c0bc5dd2-bcb1-4022-b6e6-b063b73e714e",
   "metadata": {},
   "outputs": [],
   "source": [
    "class Fruits():\n",
    "    def __init__(self,name,calories):\n",
    "        self.name = name\n",
    "        self.calories = calories\n",
    "        \n",
    "    def __str__(self):\n",
    "        return f\"{self.name} has {self.calories}\"\n",
    "    \n",
    "    def __len__(self):\n",
    "        return self.calories\n",
    "    "
   ]
  },
  {
   "cell_type": "code",
   "execution_count": 12,
   "id": "152e99c9-6e0c-466d-8a48-60e39a6c1f15",
   "metadata": {},
   "outputs": [],
   "source": [
    "my_fruits = Fruits(\"banana\",200)"
   ]
  },
  {
   "cell_type": "code",
   "execution_count": 13,
   "id": "0927805e-0b43-4bbb-b7f8-acd2aef53bfc",
   "metadata": {},
   "outputs": [
    {
     "name": "stdout",
     "output_type": "stream",
     "text": [
      "banana has 200\n"
     ]
    }
   ],
   "source": [
    "print(my_fruits)"
   ]
  },
  {
   "cell_type": "code",
   "execution_count": null,
   "id": "95131308-c64b-4d7c-b45e-60b024ae632d",
   "metadata": {},
   "outputs": [],
   "source": []
  },
  {
   "cell_type": "code",
   "execution_count": null,
   "id": "d99c7cb6-bf6c-4f17-a451-008efa76c6ae",
   "metadata": {},
   "outputs": [],
   "source": []
  }
 ],
 "metadata": {
  "kernelspec": {
   "display_name": "Qiskit v0.34.1 (ipykernel)",
   "language": "python",
   "name": "python3"
  },
  "language_info": {
   "codemirror_mode": {
    "name": "ipython",
    "version": 3
   },
   "file_extension": ".py",
   "mimetype": "text/x-python",
   "name": "python",
   "nbconvert_exporter": "python",
   "pygments_lexer": "ipython3",
   "version": "3.8.10"
  },
  "widgets": {
   "application/vnd.jupyter.widget-state+json": {
    "state": {},
    "version_major": 2,
    "version_minor": 0
   }
  }
 },
 "nbformat": 4,
 "nbformat_minor": 5
}
