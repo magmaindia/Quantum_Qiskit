{
 "cells": [
  {
   "cell_type": "code",
   "execution_count": 3,
   "id": "5a0a2800-75bc-4661-9c6f-d39c4b581c2a",
   "metadata": {},
   "outputs": [],
   "source": [
    "my_dictionary ={\"key\":\"value\"}"
   ]
  },
  {
   "cell_type": "code",
   "execution_count": 4,
   "id": "22e08582-7b2e-40ec-86e5-43c7e922c703",
   "metadata": {},
   "outputs": [
    {
     "data": {
      "text/plain": [
       "'value'"
      ]
     },
     "execution_count": 4,
     "metadata": {},
     "output_type": "execute_result"
    }
   ],
   "source": [
    "my_dictionary[\"key\"]"
   ]
  },
  {
   "cell_type": "code",
   "execution_count": 6,
   "id": "a490792e-eb70-4416-aa22-f187c5b3a017",
   "metadata": {},
   "outputs": [],
   "source": [
    "my_dictionary1 = {\"key1\":100 ,\"key2\": [1,2],\"key3\":{\"key\":5}}"
   ]
  },
  {
   "cell_type": "code",
   "execution_count": 8,
   "id": "9c36e763-9630-40ee-bc21-03c8f4758aaa",
   "metadata": {},
   "outputs": [
    {
     "data": {
      "text/plain": [
       "dict_keys(['key1', 'key2', 'key3'])"
      ]
     },
     "execution_count": 8,
     "metadata": {},
     "output_type": "execute_result"
    }
   ],
   "source": [
    "my_dictionary1.keys()"
   ]
  },
  {
   "cell_type": "code",
   "execution_count": 9,
   "id": "3992b975-c514-49dc-9de7-789fbdd20ee6",
   "metadata": {},
   "outputs": [
    {
     "data": {
      "text/plain": [
       "dict_values([100, [1, 2], {'key': 5}])"
      ]
     },
     "execution_count": 9,
     "metadata": {},
     "output_type": "execute_result"
    }
   ],
   "source": [
    "my_dictionary1.values()"
   ]
  },
  {
   "cell_type": "code",
   "execution_count": 10,
   "id": "95dfd883-a1d6-4620-8de4-c944fad142a0",
   "metadata": {},
   "outputs": [
    {
     "data": {
      "text/plain": [
       "5"
      ]
     },
     "execution_count": 10,
     "metadata": {},
     "output_type": "execute_result"
    }
   ],
   "source": [
    "my_dictionary1[\"key3\"][\"key\"]"
   ]
  },
  {
   "cell_type": "code",
   "execution_count": null,
   "id": "893b0f88-4991-4a13-a822-03c99b27afbf",
   "metadata": {},
   "outputs": [],
   "source": []
  }
 ],
 "metadata": {
  "kernelspec": {
   "display_name": "Qiskit v0.34.1 (ipykernel)",
   "language": "python",
   "name": "python3"
  },
  "language_info": {
   "codemirror_mode": {
    "name": "ipython",
    "version": 3
   },
   "file_extension": ".py",
   "mimetype": "text/x-python",
   "name": "python",
   "nbconvert_exporter": "python",
   "pygments_lexer": "ipython3",
   "version": "3.8.10"
  },
  "widgets": {
   "application/vnd.jupyter.widget-state+json": {
    "state": {},
    "version_major": 2,
    "version_minor": 0
   }
  }
 },
 "nbformat": 4,
 "nbformat_minor": 5
}
