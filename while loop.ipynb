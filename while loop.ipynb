{
 "cells": [
  {
   "cell_type": "code",
   "execution_count": 2,
   "id": "ddf87b34-e177-4cea-981c-7c238bcd8c8f",
   "metadata": {},
   "outputs": [],
   "source": [
    "a = 0"
   ]
  },
  {
   "cell_type": "code",
   "execution_count": 3,
   "id": "ac1995f9-f8d5-4901-b7a3-07063b468acb",
   "metadata": {},
   "outputs": [
    {
     "name": "stdout",
     "output_type": "stream",
     "text": [
      "Shivani\n",
      "Shivani\n",
      "Shivani\n",
      "Shivani\n",
      "Shivani\n"
     ]
    }
   ],
   "source": [
    "while a<= 4:\n",
    "    print(\"Shivani\")\n",
    "    a = a+1"
   ]
  },
  {
   "cell_type": "markdown",
   "id": "fca0d938-083f-4cf2-a467-2a5b5ce29b3b",
   "metadata": {},
   "source": [
    "##USEFUL METHODS##"
   ]
  },
  {
   "cell_type": "markdown",
   "id": "e26d3c41-a533-4369-a2bb-86f3a011b6f8",
   "metadata": {},
   "source": [
    "#RANGE"
   ]
  },
  {
   "cell_type": "code",
   "execution_count": 4,
   "id": "bb3e1592-843b-45e3-b0f1-ccc52e6d5fe4",
   "metadata": {},
   "outputs": [
    {
     "data": {
      "text/plain": [
       "range(0, 20)"
      ]
     },
     "execution_count": 4,
     "metadata": {},
     "output_type": "execute_result"
    }
   ],
   "source": [
    "range(20)"
   ]
  },
  {
   "cell_type": "code",
   "execution_count": 5,
   "id": "e25561cd-be13-4f56-9c4f-8ab1e481b1d9",
   "metadata": {},
   "outputs": [
    {
     "data": {
      "text/plain": [
       "[0, 1, 2, 3, 4, 5, 6, 7, 8, 9, 10, 11, 12, 13, 14, 15, 16, 17, 18, 19]"
      ]
     },
     "execution_count": 5,
     "metadata": {},
     "output_type": "execute_result"
    }
   ],
   "source": [
    "list(range(20))"
   ]
  },
  {
   "cell_type": "code",
   "execution_count": 6,
   "id": "45a7d893-9ba3-4eed-9899-1b79704e126f",
   "metadata": {},
   "outputs": [
    {
     "name": "stdout",
     "output_type": "stream",
     "text": [
      "0\n",
      "2\n",
      "4\n",
      "6\n",
      "8\n",
      "10\n",
      "12\n",
      "14\n",
      "16\n",
      "18\n",
      "20\n",
      "22\n",
      "24\n",
      "26\n",
      "28\n",
      "30\n",
      "32\n",
      "34\n",
      "36\n",
      "38\n"
     ]
    }
   ],
   "source": [
    "for number in list(range(20)):\n",
    "    print(number*2)"
   ]
  },
  {
   "cell_type": "code",
   "execution_count": 7,
   "id": "150d7f66-77a5-4246-8024-23c0b4c86b18",
   "metadata": {},
   "outputs": [
    {
     "name": "stdout",
     "output_type": "stream",
     "text": [
      "10\n",
      "11\n",
      "12\n",
      "13\n",
      "14\n",
      "15\n",
      "16\n",
      "17\n",
      "18\n",
      "19\n"
     ]
    }
   ],
   "source": [
    "for number in list(range(10,20)):\n",
    "    print(number)"
   ]
  },
  {
   "cell_type": "markdown",
   "id": "f4ccc1ee-f61e-4c31-bfe9-c66ee2f5c259",
   "metadata": {},
   "source": [
    "## ENUMERATE##"
   ]
  },
  {
   "cell_type": "code",
   "execution_count": 16,
   "id": "57dc2e7f-4748-4771-9688-c7bbcf2968c4",
   "metadata": {},
   "outputs": [
    {
     "name": "stdout",
     "output_type": "stream",
     "text": [
      "no: 1 in : 0\n",
      "no: 2 in : 1\n",
      "no: 3 in : 2\n",
      "no: 4 in : 3\n"
     ]
    }
   ],
   "source": [
    "index = 0\n",
    "for number in list(range(1,5)):\n",
    "    print(f\"no: {number} in : {index}\")\n",
    "    index = index+1"
   ]
  },
  {
   "cell_type": "markdown",
   "id": "3440978f-e824-406e-ad39-2a4fc4c7cfcd",
   "metadata": {},
   "source": [
    "#direct method (index,element)"
   ]
  },
  {
   "cell_type": "code",
   "execution_count": 17,
   "id": "1033d858-ca71-48e8-afc2-08605d364f92",
   "metadata": {},
   "outputs": [
    {
     "name": "stdout",
     "output_type": "stream",
     "text": [
      "(0, 5)\n",
      "(1, 6)\n",
      "(2, 7)\n",
      "(3, 8)\n",
      "(4, 9)\n"
     ]
    }
   ],
   "source": [
    "for number in enumerate(list(range(5,10))):\n",
    "    print(number)\n",
    " "
   ]
  },
  {
   "cell_type": "markdown",
   "id": "f0fa064a-f16a-460c-ac0f-913cfe2390a1",
   "metadata": {},
   "source": [
    "###RANDOM###"
   ]
  },
  {
   "cell_type": "code",
   "execution_count": 1,
   "id": "8f7bb785-6d0a-4dbd-a062-0e044e0ff8c5",
   "metadata": {},
   "outputs": [],
   "source": [
    "from random import randint"
   ]
  },
  {
   "cell_type": "code",
   "execution_count": 2,
   "id": "312a530e-134c-43fc-a5fd-f1da0443b168",
   "metadata": {},
   "outputs": [
    {
     "data": {
      "text/plain": [
       "13"
      ]
     },
     "execution_count": 2,
     "metadata": {},
     "output_type": "execute_result"
    }
   ],
   "source": [
    "randint(0,500)"
   ]
  },
  {
   "cell_type": "code",
   "execution_count": 5,
   "id": "bf203c84-7dc3-4cd5-9f78-e463d4060465",
   "metadata": {},
   "outputs": [],
   "source": [
    "my_list_2 = list(range(0,10))"
   ]
  },
  {
   "cell_type": "code",
   "execution_count": 6,
   "id": "7a104146-a32c-4da4-85af-0092d6c58f90",
   "metadata": {},
   "outputs": [],
   "source": [
    "from random import shuffle"
   ]
  },
  {
   "cell_type": "code",
   "execution_count": 7,
   "id": "17a14543-1fb8-4a28-b8e2-dc0b193f8efe",
   "metadata": {},
   "outputs": [
    {
     "data": {
      "text/plain": [
       "[0, 1, 2, 3, 4, 5, 6, 7, 8, 9]"
      ]
     },
     "execution_count": 7,
     "metadata": {},
     "output_type": "execute_result"
    }
   ],
   "source": [
    "my_list_2"
   ]
  },
  {
   "cell_type": "code",
   "execution_count": 8,
   "id": "886ba790-d86f-41b2-bc65-ff8770f241e4",
   "metadata": {},
   "outputs": [],
   "source": [
    "shuffle(my_list_2)"
   ]
  },
  {
   "cell_type": "code",
   "execution_count": 9,
   "id": "4b34d86b-6949-46b5-aa12-67a29c4d3ff2",
   "metadata": {},
   "outputs": [
    {
     "data": {
      "text/plain": [
       "[5, 9, 6, 7, 1, 4, 2, 8, 0, 3]"
      ]
     },
     "execution_count": 9,
     "metadata": {},
     "output_type": "execute_result"
    }
   ],
   "source": [
    "my_list_2"
   ]
  },
  {
   "cell_type": "markdown",
   "id": "a67f2fd0-581f-4c39-b676-0a33e5bc5987",
   "metadata": {},
   "source": [
    "##ZIP - imagine having multiple list and need to combine all together so use zip method "
   ]
  },
  {
   "cell_type": "code",
   "execution_count": 10,
   "id": "82ee542e-fbb0-4146-a85a-b1980115b2b0",
   "metadata": {},
   "outputs": [],
   "source": [
    "sport_list =[\"football\",\"basketball\",\"tennis\"]"
   ]
  },
  {
   "cell_type": "code",
   "execution_count": 11,
   "id": "4e36c3dd-6fc8-44e6-b9be-676faf2433d7",
   "metadata": {},
   "outputs": [],
   "source": [
    "calorie_list =[100,200,300]"
   ]
  },
  {
   "cell_type": "code",
   "execution_count": 12,
   "id": "ea2b671a-9642-4c35-9de8-59437ed0b3b5",
   "metadata": {},
   "outputs": [],
   "source": [
    "days_list =[\"sunday\",\"monday\",\"tuesday\"]"
   ]
  },
  {
   "cell_type": "code",
   "execution_count": 13,
   "id": "a887e2ff-69dc-4fac-b60f-7d819a29b8fb",
   "metadata": {},
   "outputs": [],
   "source": [
    "my_list = list(zip(sport_list,calorie_list,days_list))"
   ]
  },
  {
   "cell_type": "code",
   "execution_count": 14,
   "id": "4b5fee48-1cc1-4f7d-a9b0-eae2936f5028",
   "metadata": {},
   "outputs": [
    {
     "data": {
      "text/plain": [
       "[('football', 100, 'sunday'),\n",
       " ('basketball', 200, 'monday'),\n",
       " ('tennis', 300, 'tuesday')]"
      ]
     },
     "execution_count": 14,
     "metadata": {},
     "output_type": "execute_result"
    }
   ],
   "source": [
    "my_list"
   ]
  },
  {
   "cell_type": "code",
   "execution_count": 16,
   "id": "76e1deb9-3c68-4a39-905c-69e9d2ad086f",
   "metadata": {},
   "outputs": [
    {
     "name": "stdout",
     "output_type": "stream",
     "text": [
      "('football', 100, 'sunday')\n",
      "('basketball', 200, 'monday')\n",
      "('tennis', 300, 'tuesday')\n"
     ]
    }
   ],
   "source": [
    "for elements in my_list:\n",
    "    print(elements)"
   ]
  },
  {
   "cell_type": "markdown",
   "id": "61587e97-9aa4-4eb4-9ee0-c576cd6b2fb4",
   "metadata": {},
   "source": [
    "##LIST advanced"
   ]
  },
  {
   "cell_type": "code",
   "execution_count": 17,
   "id": "c146a69b-9217-4c64-b6f6-3cbfa4c42f9b",
   "metadata": {},
   "outputs": [],
   "source": [
    "new_list =[]"
   ]
  },
  {
   "cell_type": "code",
   "execution_count": 19,
   "id": "122a953e-6604-4c4d-8e41-39ef1f48b33e",
   "metadata": {},
   "outputs": [],
   "source": [
    "my_string =\"shivani\""
   ]
  },
  {
   "cell_type": "code",
   "execution_count": 20,
   "id": "ff867159-e17f-4c5c-898b-227b95a38e0b",
   "metadata": {},
   "outputs": [],
   "source": [
    "for elements in my_string:\n",
    "    new_list.append(elements)"
   ]
  },
  {
   "cell_type": "code",
   "execution_count": 21,
   "id": "b0fe40bf-dc3c-4791-83d5-7ad688c593be",
   "metadata": {},
   "outputs": [
    {
     "data": {
      "text/plain": [
       "['s', 'h', 'i', 'v', 'a', 'n', 'i']"
      ]
     },
     "execution_count": 21,
     "metadata": {},
     "output_type": "execute_result"
    }
   ],
   "source": [
    "new_list"
   ]
  },
  {
   "cell_type": "code",
   "execution_count": 22,
   "id": "05442056-e465-4683-96b2-2a8a2efc4796",
   "metadata": {},
   "outputs": [
    {
     "name": "stdout",
     "output_type": "stream",
     "text": [
      "s\n",
      "h\n",
      "i\n",
      "v\n",
      "a\n",
      "n\n",
      "i\n"
     ]
    }
   ],
   "source": [
    "for elements in my_string:\n",
    "    print(elements)"
   ]
  },
  {
   "cell_type": "markdown",
   "id": "0b67c1d2-778f-4743-ae5b-774abc8d2f14",
   "metadata": {},
   "source": [
    "###for loop code in one single line###"
   ]
  },
  {
   "cell_type": "code",
   "execution_count": 23,
   "id": "0b591168-6b54-4dbf-81a5-0d58d13a9718",
   "metadata": {},
   "outputs": [],
   "source": [
    "new_list =[element for element in my_string]"
   ]
  },
  {
   "cell_type": "code",
   "execution_count": 24,
   "id": "2983cc09-9a63-4822-8b79-3c54e36681a6",
   "metadata": {},
   "outputs": [
    {
     "data": {
      "text/plain": [
       "['s', 'h', 'i', 'v', 'a', 'n', 'i']"
      ]
     },
     "execution_count": 24,
     "metadata": {},
     "output_type": "execute_result"
    }
   ],
   "source": [
    "new_list"
   ]
  },
  {
   "cell_type": "code",
   "execution_count": 27,
   "id": "382f02e7-bfe7-415c-b47a-b3b4c789f03b",
   "metadata": {},
   "outputs": [],
   "source": [
    "new_list2 =[number**5 for number in list(range(0,10))]"
   ]
  },
  {
   "cell_type": "code",
   "execution_count": 28,
   "id": "9c9a85fb-f5aa-47fa-b4ca-64866f2d60d9",
   "metadata": {},
   "outputs": [
    {
     "data": {
      "text/plain": [
       "[0, 1, 32, 243, 1024, 3125, 7776, 16807, 32768, 59049]"
      ]
     },
     "execution_count": 28,
     "metadata": {},
     "output_type": "execute_result"
    }
   ],
   "source": [
    "new_list2"
   ]
  },
  {
   "cell_type": "code",
   "execution_count": null,
   "id": "541ad7d4-3b92-464b-b2cc-0f26e6755e4f",
   "metadata": {},
   "outputs": [],
   "source": []
  }
 ],
 "metadata": {
  "kernelspec": {
   "display_name": "Qiskit v0.34.2 (ipykernel)",
   "language": "python",
   "name": "python3"
  },
  "language_info": {
   "codemirror_mode": {
    "name": "ipython",
    "version": 3
   },
   "file_extension": ".py",
   "mimetype": "text/x-python",
   "name": "python",
   "nbconvert_exporter": "python",
   "pygments_lexer": "ipython3",
   "version": "3.8.12"
  },
  "widgets": {
   "application/vnd.jupyter.widget-state+json": {
    "state": {},
    "version_major": 2,
    "version_minor": 0
   }
  }
 },
 "nbformat": 4,
 "nbformat_minor": 5
}
