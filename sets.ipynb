{
 "cells": [
  {
   "cell_type": "code",
   "execution_count": 1,
   "id": "45afa1d9-7bed-4ae6-a095-337f467f0d84",
   "metadata": {},
   "outputs": [],
   "source": [
    "##list contains repeat element and set contains unique element"
   ]
  },
  {
   "cell_type": "markdown",
   "id": "cfd35804-5887-4fdc-a044-b24d19473819",
   "metadata": {},
   "source": [
    "##casting##"
   ]
  },
  {
   "cell_type": "code",
   "execution_count": 2,
   "id": "2d2b6718-dd9b-44df-86e7-2bd4169435eb",
   "metadata": {},
   "outputs": [],
   "source": [
    "my_list =[1,2,3,1]"
   ]
  },
  {
   "cell_type": "code",
   "execution_count": 3,
   "id": "0ddeb989-6fa0-41be-a193-b4e9f3590cef",
   "metadata": {},
   "outputs": [],
   "source": [
    "my_set = set(my_list)"
   ]
  },
  {
   "cell_type": "code",
   "execution_count": 4,
   "id": "aee2ada4-a678-411a-b30d-3ee9a9cc8e32",
   "metadata": {},
   "outputs": [
    {
     "data": {
      "text/plain": [
       "{1, 2, 3}"
      ]
     },
     "execution_count": 4,
     "metadata": {},
     "output_type": "execute_result"
    }
   ],
   "source": [
    "my_set"
   ]
  },
  {
   "cell_type": "markdown",
   "id": "270ae723-61ac-4247-986b-123ff63d622d",
   "metadata": {},
   "source": [
    "## sets also written in curly brackets like dictionary but with no values like in dictionary key:value##"
   ]
  },
  {
   "cell_type": "code",
   "execution_count": 7,
   "id": "d9d86976-a568-417e-a2de-1b1182fda458",
   "metadata": {},
   "outputs": [],
   "source": [
    "my_list1 =[]"
   ]
  },
  {
   "cell_type": "code",
   "execution_count": 6,
   "id": "0fb40d0e-5937-4ea2-a7b0-9614bc74a4c1",
   "metadata": {},
   "outputs": [
    {
     "data": {
      "text/plain": [
       "list"
      ]
     },
     "execution_count": 6,
     "metadata": {},
     "output_type": "execute_result"
    }
   ],
   "source": [
    "type(my_list)"
   ]
  },
  {
   "cell_type": "code",
   "execution_count": 8,
   "id": "5ebd8ba1-bb91-4bd8-a383-45ed2f817615",
   "metadata": {},
   "outputs": [],
   "source": [
    "my_set1 = {}"
   ]
  },
  {
   "cell_type": "code",
   "execution_count": 9,
   "id": "bb4bfa4c-d4e9-4f13-ab49-b4d74f566a84",
   "metadata": {},
   "outputs": [
    {
     "data": {
      "text/plain": [
       "dict"
      ]
     },
     "execution_count": 9,
     "metadata": {},
     "output_type": "execute_result"
    }
   ],
   "source": [
    "type(my_set1)"
   ]
  },
  {
   "cell_type": "code",
   "execution_count": null,
   "id": "36fbc5a5-d046-43c1-8711-59caf1cdaadc",
   "metadata": {},
   "outputs": [],
   "source": []
  }
 ],
 "metadata": {
  "kernelspec": {
   "display_name": "Qiskit v0.34.1 (ipykernel)",
   "language": "python",
   "name": "python3"
  },
  "language_info": {
   "codemirror_mode": {
    "name": "ipython",
    "version": 3
   },
   "file_extension": ".py",
   "mimetype": "text/x-python",
   "name": "python",
   "nbconvert_exporter": "python",
   "pygments_lexer": "ipython3",
   "version": "3.8.10"
  },
  "widgets": {
   "application/vnd.jupyter.widget-state+json": {
    "state": {},
    "version_major": 2,
    "version_minor": 0
   }
  }
 },
 "nbformat": 4,
 "nbformat_minor": 5
}
