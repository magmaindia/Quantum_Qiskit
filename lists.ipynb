{
 "cells": [
  {
   "cell_type": "code",
   "execution_count": 1,
   "id": "1a83cc13-410a-4d40-8ce7-3182a38424a7",
   "metadata": {},
   "outputs": [],
   "source": [
    "## immutability##"
   ]
  },
  {
   "cell_type": "code",
   "execution_count": 2,
   "id": "722915b9-f7c7-4092-aba4-c66de79bc403",
   "metadata": {},
   "outputs": [],
   "source": [
    "my_list = [1,2,3]"
   ]
  },
  {
   "cell_type": "code",
   "execution_count": 3,
   "id": "f56526e7-4899-43fa-9a6e-2a0d432cd980",
   "metadata": {},
   "outputs": [
    {
     "data": {
      "text/plain": [
       "2"
      ]
     },
     "execution_count": 3,
     "metadata": {},
     "output_type": "execute_result"
    }
   ],
   "source": [
    "my_list[1]"
   ]
  },
  {
   "cell_type": "code",
   "execution_count": 4,
   "id": "51e9a79c-1797-40ad-9e46-71ea95e3961e",
   "metadata": {},
   "outputs": [],
   "source": [
    "my_list[0] = 6"
   ]
  },
  {
   "cell_type": "code",
   "execution_count": 5,
   "id": "828fb1e1-4a1f-4e30-be0b-c5a4022024d8",
   "metadata": {},
   "outputs": [
    {
     "data": {
      "text/plain": [
       "[6, 2, 3]"
      ]
     },
     "execution_count": 5,
     "metadata": {},
     "output_type": "execute_result"
    }
   ],
   "source": [
    "my_list"
   ]
  },
  {
   "cell_type": "markdown",
   "id": "d1a73f40-26dd-49fa-ab5d-89a5de608cf4",
   "metadata": {},
   "source": [
    "##mutabilty##"
   ]
  },
  {
   "cell_type": "code",
   "execution_count": 6,
   "id": "f4b961f6-f82f-4c1e-9fde-57685f872296",
   "metadata": {},
   "outputs": [],
   "source": [
    "my_list.append(4)"
   ]
  },
  {
   "cell_type": "code",
   "execution_count": 7,
   "id": "e8845d8e-30af-49d3-a7e9-afe019fec2f9",
   "metadata": {},
   "outputs": [
    {
     "data": {
      "text/plain": [
       "[6, 2, 3, 4]"
      ]
     },
     "execution_count": 7,
     "metadata": {},
     "output_type": "execute_result"
    }
   ],
   "source": [
    "my_list"
   ]
  },
  {
   "cell_type": "code",
   "execution_count": 9,
   "id": "47bbe8ea-c423-427b-a51e-9ae79e246bba",
   "metadata": {},
   "outputs": [
    {
     "data": {
      "text/plain": [
       "4"
      ]
     },
     "execution_count": 9,
     "metadata": {},
     "output_type": "execute_result"
    }
   ],
   "source": [
    "my_list.pop()"
   ]
  },
  {
   "cell_type": "code",
   "execution_count": 10,
   "id": "d4749267-628c-439a-8796-4c108be396bf",
   "metadata": {},
   "outputs": [],
   "source": [
    "my_mixed_list = [1,2,\"shivani\",\"apple\"]"
   ]
  },
  {
   "cell_type": "code",
   "execution_count": 11,
   "id": "caae1b28-8d76-45fa-a87d-5901f65dd7f6",
   "metadata": {},
   "outputs": [
    {
     "data": {
      "text/plain": [
       "'shivani'"
      ]
     },
     "execution_count": 11,
     "metadata": {},
     "output_type": "execute_result"
    }
   ],
   "source": [
    "my_mixed_list[2]"
   ]
  },
  {
   "cell_type": "code",
   "execution_count": 12,
   "id": "a188a010-d7b3-47e1-88ae-0721151252ac",
   "metadata": {},
   "outputs": [
    {
     "data": {
      "text/plain": [
       "1"
      ]
     },
     "execution_count": 12,
     "metadata": {},
     "output_type": "execute_result"
    }
   ],
   "source": [
    "my_mixed_list[0]"
   ]
  },
  {
   "cell_type": "markdown",
   "id": "49817a5f-fdc7-4a98-b0b5-efd6384dd7ac",
   "metadata": {},
   "source": [
    "##nested list##"
   ]
  },
  {
   "cell_type": "code",
   "execution_count": 14,
   "id": "7f48ef56-7c85-4de0-b369-0d0d01b18d9d",
   "metadata": {},
   "outputs": [],
   "source": [
    "new_list = [1,2,3]"
   ]
  },
  {
   "cell_type": "code",
   "execution_count": 15,
   "id": "8b582da7-42ae-48ea-a34b-bbb97671560c",
   "metadata": {},
   "outputs": [],
   "source": [
    "new_list = [1,2,3,[4,5,6]]"
   ]
  },
  {
   "cell_type": "code",
   "execution_count": 16,
   "id": "8aec161c-0e7e-4f53-aa38-aa62590badac",
   "metadata": {},
   "outputs": [
    {
     "data": {
      "text/plain": [
       "[4, 5, 6]"
      ]
     },
     "execution_count": 16,
     "metadata": {},
     "output_type": "execute_result"
    }
   ],
   "source": [
    "new_list[3]"
   ]
  },
  {
   "cell_type": "code",
   "execution_count": 17,
   "id": "53a66a59-11c3-4a98-a0f0-f7a1f6ff44f7",
   "metadata": {},
   "outputs": [
    {
     "data": {
      "text/plain": [
       "3"
      ]
     },
     "execution_count": 17,
     "metadata": {},
     "output_type": "execute_result"
    }
   ],
   "source": [
    "new_list[2]"
   ]
  },
  {
   "cell_type": "code",
   "execution_count": 18,
   "id": "9619caaa-8e08-49e5-aab1-b7eb96475b12",
   "metadata": {},
   "outputs": [],
   "source": [
    "nested_list = new_list[3]"
   ]
  },
  {
   "cell_type": "code",
   "execution_count": 20,
   "id": "714de4ba-fc10-41ee-ac96-07d50a510d36",
   "metadata": {},
   "outputs": [
    {
     "data": {
      "text/plain": [
       "[4, 5, 6]"
      ]
     },
     "execution_count": 20,
     "metadata": {},
     "output_type": "execute_result"
    }
   ],
   "source": [
    "nested_list"
   ]
  },
  {
   "cell_type": "code",
   "execution_count": 22,
   "id": "ad2c8cb9-4cfe-4437-9c7e-34a6178f9fb5",
   "metadata": {},
   "outputs": [
    {
     "data": {
      "text/plain": [
       "5"
      ]
     },
     "execution_count": 22,
     "metadata": {},
     "output_type": "execute_result"
    }
   ],
   "source": [
    "nested_list[1]"
   ]
  },
  {
   "cell_type": "markdown",
   "id": "1b052700-e35f-4cf7-906b-d65b138e150b",
   "metadata": {},
   "source": [
    "## another way to call nested list##"
   ]
  },
  {
   "cell_type": "code",
   "execution_count": 23,
   "id": "3fd511fb-584e-46bf-b416-d7e6b5305149",
   "metadata": {},
   "outputs": [
    {
     "data": {
      "text/plain": [
       "5"
      ]
     },
     "execution_count": 23,
     "metadata": {},
     "output_type": "execute_result"
    }
   ],
   "source": [
    "new_list[3][1]"
   ]
  },
  {
   "cell_type": "code",
   "execution_count": 24,
   "id": "8150c2ea-6844-40b3-9d61-a52ee87698e9",
   "metadata": {},
   "outputs": [],
   "source": [
    "## from 2 [2:]  ## upto 2[:2]"
   ]
  },
  {
   "cell_type": "code",
   "execution_count": 25,
   "id": "52c94d73-e46c-4d82-9826-4ebf85e8e944",
   "metadata": {},
   "outputs": [
    {
     "data": {
      "text/plain": [
       "[3, [4, 5, 6]]"
      ]
     },
     "execution_count": 25,
     "metadata": {},
     "output_type": "execute_result"
    }
   ],
   "source": [
    "new_list[2:]"
   ]
  },
  {
   "cell_type": "code",
   "execution_count": 26,
   "id": "8c8adfbc-9995-4228-87a5-f67a959be8c1",
   "metadata": {},
   "outputs": [
    {
     "data": {
      "text/plain": [
       "[1, 2]"
      ]
     },
     "execution_count": 26,
     "metadata": {},
     "output_type": "execute_result"
    }
   ],
   "source": [
    "new_list[:2]"
   ]
  },
  {
   "cell_type": "code",
   "execution_count": null,
   "id": "41a71b59-6b09-435b-934e-732cb4d89b7c",
   "metadata": {},
   "outputs": [],
   "source": []
  }
 ],
 "metadata": {
  "kernelspec": {
   "display_name": "Qiskit v0.34.1 (ipykernel)",
   "language": "python",
   "name": "python3"
  },
  "language_info": {
   "codemirror_mode": {
    "name": "ipython",
    "version": 3
   },
   "file_extension": ".py",
   "mimetype": "text/x-python",
   "name": "python",
   "nbconvert_exporter": "python",
   "pygments_lexer": "ipython3",
   "version": "3.8.10"
  },
  "widgets": {
   "application/vnd.jupyter.widget-state+json": {
    "state": {},
    "version_major": 2,
    "version_minor": 0
   }
  }
 },
 "nbformat": 4,
 "nbformat_minor": 5
}
